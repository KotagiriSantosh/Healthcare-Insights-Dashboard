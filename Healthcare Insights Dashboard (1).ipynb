{
 "cells": [
  {
   "cell_type": "code",
   "execution_count": 1,
   "id": "02ad4ecc-d2cd-4542-8fdc-3f1359dea307",
   "metadata": {},
   "outputs": [],
   "source": [
    "#importing libraries\n",
    "import numpy as np\n",
    "import pandas as pd"
   ]
  },
  {
   "cell_type": "code",
   "execution_count": 2,
   "id": "711dcabd-1b91-4eec-8871-9336a17082f7",
   "metadata": {},
   "outputs": [
    {
     "name": "stdout",
     "output_type": "stream",
     "text": [
      "Requirement already satisfied: openpyxl in g:\\anaconda\\lib\\site-packages (3.1.5)\n",
      "Requirement already satisfied: et-xmlfile in g:\\anaconda\\lib\\site-packages (from openpyxl) (1.1.0)\n"
     ]
    }
   ],
   "source": [
    "#installing a library to read the xlsx/xlsm file\n",
    "!pip install openpyxl"
   ]
  },
  {
   "cell_type": "code",
   "execution_count": 3,
   "id": "335bf495-4674-4c14-88eb-323bdc234b7e",
   "metadata": {},
   "outputs": [
    {
     "data": {
      "text/html": [
       "<div>\n",
       "<style scoped>\n",
       "    .dataframe tbody tr th:only-of-type {\n",
       "        vertical-align: middle;\n",
       "    }\n",
       "\n",
       "    .dataframe tbody tr th {\n",
       "        vertical-align: top;\n",
       "    }\n",
       "\n",
       "    .dataframe thead th {\n",
       "        text-align: right;\n",
       "    }\n",
       "</style>\n",
       "<table border=\"1\" class=\"dataframe\">\n",
       "  <thead>\n",
       "    <tr style=\"text-align: right;\">\n",
       "      <th></th>\n",
       "      <th>Patient_ID</th>\n",
       "      <th>Admit_Date</th>\n",
       "      <th>Discharge_Date</th>\n",
       "      <th>Diagnosis</th>\n",
       "      <th>Bed_Occupancy</th>\n",
       "      <th>Test</th>\n",
       "      <th>Doctor</th>\n",
       "      <th>Followup Date</th>\n",
       "      <th>Feedback</th>\n",
       "      <th>Billing Amount</th>\n",
       "      <th>Health Insurance Amount</th>\n",
       "    </tr>\n",
       "  </thead>\n",
       "  <tbody>\n",
       "    <tr>\n",
       "      <th>0</th>\n",
       "      <td>23571</td>\n",
       "      <td>2022-12-31</td>\n",
       "      <td>2023-01-12</td>\n",
       "      <td>Viral Infection</td>\n",
       "      <td>General</td>\n",
       "      <td>MRI</td>\n",
       "      <td>Jay Sinha</td>\n",
       "      <td>2023-01-20</td>\n",
       "      <td>5.0</td>\n",
       "      <td>13234</td>\n",
       "      <td>11910.6</td>\n",
       "    </tr>\n",
       "    <tr>\n",
       "      <th>1</th>\n",
       "      <td>27781</td>\n",
       "      <td>2023-01-04</td>\n",
       "      <td>2023-01-12</td>\n",
       "      <td>Typhoid</td>\n",
       "      <td>ICU</td>\n",
       "      <td>MRI</td>\n",
       "      <td>Jaya Yaadav</td>\n",
       "      <td>2023-01-16</td>\n",
       "      <td>4.0</td>\n",
       "      <td>12241</td>\n",
       "      <td>11016.9</td>\n",
       "    </tr>\n",
       "    <tr>\n",
       "      <th>2</th>\n",
       "      <td>24413</td>\n",
       "      <td>2023-01-05</td>\n",
       "      <td>2023-01-12</td>\n",
       "      <td>Malaria</td>\n",
       "      <td>General</td>\n",
       "      <td>CT Scan</td>\n",
       "      <td>Jay Sinha</td>\n",
       "      <td>2023-01-15</td>\n",
       "      <td>5.0</td>\n",
       "      <td>35255</td>\n",
       "      <td>31729.5</td>\n",
       "    </tr>\n",
       "    <tr>\n",
       "      <th>3</th>\n",
       "      <td>27360</td>\n",
       "      <td>2023-01-05</td>\n",
       "      <td>2023-01-12</td>\n",
       "      <td>Flu</td>\n",
       "      <td>Private</td>\n",
       "      <td>X-Ray</td>\n",
       "      <td>Jaya Yaadav</td>\n",
       "      <td>2023-01-19</td>\n",
       "      <td>5.0</td>\n",
       "      <td>6582</td>\n",
       "      <td>5923.8</td>\n",
       "    </tr>\n",
       "    <tr>\n",
       "      <th>4</th>\n",
       "      <td>26097</td>\n",
       "      <td>2023-01-06</td>\n",
       "      <td>2023-01-12</td>\n",
       "      <td>Viral Infection</td>\n",
       "      <td>General</td>\n",
       "      <td>Blood Test</td>\n",
       "      <td>Jaya Yaadav</td>\n",
       "      <td>2023-02-06</td>\n",
       "      <td>4.9</td>\n",
       "      <td>4567</td>\n",
       "      <td>4110.3</td>\n",
       "    </tr>\n",
       "  </tbody>\n",
       "</table>\n",
       "</div>"
      ],
      "text/plain": [
       "   Patient_ID Admit_Date Discharge_Date         Diagnosis Bed_Occupancy  \\\n",
       "0       23571 2022-12-31     2023-01-12  Viral Infection        General   \n",
       "1       27781 2023-01-04     2023-01-12           Typhoid           ICU   \n",
       "2       24413 2023-01-05     2023-01-12          Malaria        General   \n",
       "3       27360 2023-01-05     2023-01-12               Flu       Private   \n",
       "4       26097 2023-01-06     2023-01-12  Viral Infection        General   \n",
       "\n",
       "         Test       Doctor Followup Date  Feedback  Billing Amount  \\\n",
       "0         MRI    Jay Sinha    2023-01-20       5.0           13234   \n",
       "1         MRI  Jaya Yaadav    2023-01-16       4.0           12241   \n",
       "2     CT Scan    Jay Sinha    2023-01-15       5.0           35255   \n",
       "3       X-Ray  Jaya Yaadav    2023-01-19       5.0            6582   \n",
       "4  Blood Test  Jaya Yaadav    2023-02-06       4.9            4567   \n",
       "\n",
       "   Health Insurance Amount  \n",
       "0                  11910.6  \n",
       "1                  11016.9  \n",
       "2                  31729.5  \n",
       "3                   5923.8  \n",
       "4                   4110.3  "
      ]
     },
     "execution_count": 3,
     "metadata": {},
     "output_type": "execute_result"
    }
   ],
   "source": [
    "#load the datset from excel file to df(dataframe)\n",
    "df = pd.read_excel(\"C:/Users/HP/Downloads/Healtcare-Dataset.xlsx\")\n",
    "df.head()"
   ]
  },
  {
   "cell_type": "code",
   "execution_count": 4,
   "id": "ba598cba-053d-4e50-acb1-0ad8a4813267",
   "metadata": {},
   "outputs": [
    {
     "name": "stdout",
     "output_type": "stream",
     "text": [
      "<class 'pandas.core.frame.DataFrame'>\n",
      "RangeIndex: 7157 entries, 0 to 7156\n",
      "Data columns (total 11 columns):\n",
      " #   Column                   Non-Null Count  Dtype         \n",
      "---  ------                   --------------  -----         \n",
      " 0   Patient_ID               7157 non-null   int64         \n",
      " 1   Admit_Date               7157 non-null   datetime64[ns]\n",
      " 2   Discharge_Date           7157 non-null   datetime64[ns]\n",
      " 3   Diagnosis                7157 non-null   object        \n",
      " 4   Bed_Occupancy            7157 non-null   object        \n",
      " 5   Test                     7157 non-null   object        \n",
      " 6   Doctor                   7157 non-null   object        \n",
      " 7   Followup Date            7035 non-null   datetime64[ns]\n",
      " 8   Feedback                 7157 non-null   float64       \n",
      " 9   Billing Amount           7157 non-null   int64         \n",
      " 10  Health Insurance Amount  7157 non-null   float64       \n",
      "dtypes: datetime64[ns](3), float64(2), int64(2), object(4)\n",
      "memory usage: 615.2+ KB\n"
     ]
    }
   ],
   "source": [
    "#getting an idea about the datatypes\n",
    "df.info()"
   ]
  },
  {
   "cell_type": "code",
   "execution_count": 5,
   "id": "663c54d3-3e6e-423e-a6e7-2713edb2877f",
   "metadata": {},
   "outputs": [
    {
     "data": {
      "text/plain": [
       "Health Insurance Amount\n",
       "11107.8    245\n",
       "2108.7     238\n",
       "3081.6     234\n",
       "4110.3     119\n",
       "5808.6     119\n",
       "          ... \n",
       "8356.5      10\n",
       "51915.6      9\n",
       "76287.6      9\n",
       "86280.3      9\n",
       "85078.8      9\n",
       "Name: count, Length: 103, dtype: int64"
      ]
     },
     "execution_count": 5,
     "metadata": {},
     "output_type": "execute_result"
    }
   ],
   "source": [
    "df['Health Insurance Amount'].value_counts() # checking whether a 'Health Insurance Amount' coloumn is in float datatype"
   ]
  },
  {
   "cell_type": "code",
   "execution_count": 6,
   "id": "9157a1aa-34fa-4279-a692-4985f3ff0629",
   "metadata": {},
   "outputs": [
    {
     "data": {
      "text/plain": [
       "True"
      ]
     },
     "execution_count": 6,
     "metadata": {},
     "output_type": "execute_result"
    }
   ],
   "source": [
    "#checking Null Values in the data\n",
    "df.isnull().sum().any()"
   ]
  },
  {
   "cell_type": "code",
   "execution_count": 7,
   "id": "6947c73a-c4ab-4d5c-b318-41a48266c516",
   "metadata": {},
   "outputs": [],
   "source": [
    "#True means Null values exist in the Data"
   ]
  },
  {
   "cell_type": "code",
   "execution_count": 8,
   "id": "c5a8d400-a85e-480f-9b5f-d9be53d9a2b1",
   "metadata": {},
   "outputs": [
    {
     "data": {
      "text/plain": [
       "Patient_ID                   0\n",
       "Admit_Date                   0\n",
       "Discharge_Date               0\n",
       "Diagnosis                    0\n",
       "Bed_Occupancy                0\n",
       "Test                         0\n",
       "Doctor                       0\n",
       "Followup Date              122\n",
       "Feedback                     0\n",
       "Billing Amount               0\n",
       "Health Insurance Amount      0\n",
       "dtype: int64"
      ]
     },
     "execution_count": 8,
     "metadata": {},
     "output_type": "execute_result"
    }
   ],
   "source": [
    "#checking in which coloumn NUll Value exist\n",
    "df.isnull().sum()\n"
   ]
  },
  {
   "cell_type": "code",
   "execution_count": 9,
   "id": "24ee080f-941e-4a8f-a94a-13db2b91fb26",
   "metadata": {},
   "outputs": [],
   "source": [
    "#We found there are 122 Null values in the Coloumn - 'Followup Date'"
   ]
  },
  {
   "cell_type": "code",
   "execution_count": 10,
   "id": "c6f596da-1c8b-4a60-91fa-51986e93638e",
   "metadata": {},
   "outputs": [
    {
     "name": "stdout",
     "output_type": "stream",
     "text": [
      "Checking the Missing Values after handling \n",
      "\n",
      "Patient_ID                 0\n",
      "Admit_Date                 0\n",
      "Discharge_Date             0\n",
      "Diagnosis                  0\n",
      "Bed_Occupancy              0\n",
      "Test                       0\n",
      "Doctor                     0\n",
      "Followup Date              0\n",
      "Feedback                   0\n",
      "Billing Amount             0\n",
      "Health Insurance Amount    0\n",
      "dtype: int64\n"
     ]
    },
    {
     "name": "stderr",
     "output_type": "stream",
     "text": [
      "C:\\Users\\HP\\AppData\\Local\\Temp\\ipykernel_2820\\2922955646.py:3: FutureWarning: A value is trying to be set on a copy of a DataFrame or Series through chained assignment using an inplace method.\n",
      "The behavior will change in pandas 3.0. This inplace method will never work because the intermediate object on which we are setting values always behaves as a copy.\n",
      "\n",
      "For example, when doing 'df[col].method(value, inplace=True)', try using 'df.method({col: value}, inplace=True)' or df[col] = df[col].method(value) instead, to perform the operation inplace on the original object.\n",
      "\n",
      "\n",
      "  df['Followup Date'].fillna('No Follow-up Required',inplace = True)\n",
      "C:\\Users\\HP\\AppData\\Local\\Temp\\ipykernel_2820\\2922955646.py:3: FutureWarning: Setting an item of incompatible dtype is deprecated and will raise an error in a future version of pandas. Value 'No Follow-up Required' has dtype incompatible with datetime64[ns], please explicitly cast to a compatible dtype first.\n",
      "  df['Followup Date'].fillna('No Follow-up Required',inplace = True)\n"
     ]
    }
   ],
   "source": [
    "# Handling missing values in 'Followup Date'\n",
    "# Replace missing values with 'No Follow-up Required'\n",
    "df['Followup Date'].fillna('No Follow-up Required',inplace = True)\n",
    "print(\"Checking the Missing Values after handling \\n\")\n",
    "print(df.isnull().sum())"
   ]
  },
  {
   "cell_type": "code",
   "execution_count": 11,
   "id": "61772871-0c93-4bf7-91d4-c770d63fa03f",
   "metadata": {},
   "outputs": [
    {
     "data": {
      "text/plain": [
       "0"
      ]
     },
     "execution_count": 11,
     "metadata": {},
     "output_type": "execute_result"
    }
   ],
   "source": [
    "#checking Duplicates values in Data\n",
    "df.duplicated().sum()"
   ]
  },
  {
   "cell_type": "code",
   "execution_count": null,
   "id": "7dad9df0-d10a-487f-b8c5-d3e6af6dd717",
   "metadata": {},
   "outputs": [],
   "source": []
  },
  {
   "cell_type": "code",
   "execution_count": 12,
   "id": "047c61a7-0707-42d8-b8ad-19c416cfdf8c",
   "metadata": {},
   "outputs": [
    {
     "name": "stdout",
     "output_type": "stream",
     "text": [
      "Empty DataFrame\n",
      "Columns: [Patient_ID, Admit_Date, Discharge_Date, Diagnosis, Bed_Occupancy, Test, Doctor, Followup Date, Feedback, Billing Amount, Health Insurance Amount]\n",
      "Index: []\n"
     ]
    }
   ],
   "source": [
    "#identifying rows where Discharge_Date is earlier than Admit_Date\n",
    "invalid_dates = df[df['Discharge_Date'] < df['Admit_Date']]\n",
    "print(invalid_dates)"
   ]
  },
  {
   "cell_type": "code",
   "execution_count": 13,
   "id": "db2b4e19-1ed2-46ec-b1cc-6f3404e82da1",
   "metadata": {},
   "outputs": [
    {
     "name": "stdout",
     "output_type": "stream",
     "text": [
      "\n",
      "Number of inconsistent rows: 0\n"
     ]
    }
   ],
   "source": [
    "print(f\"\\nNumber of inconsistent rows: {len(invalid_dates)}\")"
   ]
  },
  {
   "cell_type": "code",
   "execution_count": 14,
   "id": "ba56f40c-6504-4489-ba27-26a99801249f",
   "metadata": {},
   "outputs": [],
   "source": [
    "#Then the dataset doesnt consist of inconsistent rows"
   ]
  },
  {
   "cell_type": "code",
   "execution_count": 15,
   "id": "84b9bbf0-f47f-4ba7-881e-97760e91532a",
   "metadata": {},
   "outputs": [
    {
     "data": {
      "text/html": [
       "<div>\n",
       "<style scoped>\n",
       "    .dataframe tbody tr th:only-of-type {\n",
       "        vertical-align: middle;\n",
       "    }\n",
       "\n",
       "    .dataframe tbody tr th {\n",
       "        vertical-align: top;\n",
       "    }\n",
       "\n",
       "    .dataframe thead th {\n",
       "        text-align: right;\n",
       "    }\n",
       "</style>\n",
       "<table border=\"1\" class=\"dataframe\">\n",
       "  <thead>\n",
       "    <tr style=\"text-align: right;\">\n",
       "      <th></th>\n",
       "      <th>Patient_ID</th>\n",
       "      <th>Admit_Date</th>\n",
       "      <th>Discharge_Date</th>\n",
       "      <th>Feedback</th>\n",
       "      <th>Billing Amount</th>\n",
       "      <th>Health Insurance Amount</th>\n",
       "    </tr>\n",
       "  </thead>\n",
       "  <tbody>\n",
       "    <tr>\n",
       "      <th>count</th>\n",
       "      <td>7157.000000</td>\n",
       "      <td>7157</td>\n",
       "      <td>7157</td>\n",
       "      <td>7157.000000</td>\n",
       "      <td>7157.000000</td>\n",
       "      <td>7157.000000</td>\n",
       "    </tr>\n",
       "    <tr>\n",
       "      <th>mean</th>\n",
       "      <td>27149.000000</td>\n",
       "      <td>2023-07-24 09:14:42.772111360</td>\n",
       "      <td>2023-08-01 15:14:27.681989376</td>\n",
       "      <td>4.723543</td>\n",
       "      <td>26607.891854</td>\n",
       "      <td>23947.102669</td>\n",
       "    </tr>\n",
       "    <tr>\n",
       "      <th>min</th>\n",
       "      <td>23571.000000</td>\n",
       "      <td>2022-12-05 00:00:00</td>\n",
       "      <td>2023-01-12 00:00:00</td>\n",
       "      <td>3.500000</td>\n",
       "      <td>1223.000000</td>\n",
       "      <td>1100.700000</td>\n",
       "    </tr>\n",
       "    <tr>\n",
       "      <th>25%</th>\n",
       "      <td>25360.000000</td>\n",
       "      <td>2023-04-03 00:00:00</td>\n",
       "      <td>2023-04-11 00:00:00</td>\n",
       "      <td>4.500000</td>\n",
       "      <td>5454.000000</td>\n",
       "      <td>4908.600000</td>\n",
       "    </tr>\n",
       "    <tr>\n",
       "      <th>50%</th>\n",
       "      <td>27149.000000</td>\n",
       "      <td>2023-07-22 00:00:00</td>\n",
       "      <td>2023-07-31 00:00:00</td>\n",
       "      <td>5.000000</td>\n",
       "      <td>12348.000000</td>\n",
       "      <td>11113.200000</td>\n",
       "    </tr>\n",
       "    <tr>\n",
       "      <th>75%</th>\n",
       "      <td>28938.000000</td>\n",
       "      <td>2023-11-11 00:00:00</td>\n",
       "      <td>2023-11-20 00:00:00</td>\n",
       "      <td>5.000000</td>\n",
       "      <td>43522.000000</td>\n",
       "      <td>39169.800000</td>\n",
       "    </tr>\n",
       "    <tr>\n",
       "      <th>max</th>\n",
       "      <td>30727.000000</td>\n",
       "      <td>2024-03-06 00:00:00</td>\n",
       "      <td>2024-03-07 00:00:00</td>\n",
       "      <td>5.000000</td>\n",
       "      <td>95867.000000</td>\n",
       "      <td>86280.300000</td>\n",
       "    </tr>\n",
       "    <tr>\n",
       "      <th>std</th>\n",
       "      <td>2066.192271</td>\n",
       "      <td>NaN</td>\n",
       "      <td>NaN</td>\n",
       "      <td>0.479901</td>\n",
       "      <td>25791.931009</td>\n",
       "      <td>23212.737908</td>\n",
       "    </tr>\n",
       "  </tbody>\n",
       "</table>\n",
       "</div>"
      ],
      "text/plain": [
       "         Patient_ID                     Admit_Date  \\\n",
       "count   7157.000000                           7157   \n",
       "mean   27149.000000  2023-07-24 09:14:42.772111360   \n",
       "min    23571.000000            2022-12-05 00:00:00   \n",
       "25%    25360.000000            2023-04-03 00:00:00   \n",
       "50%    27149.000000            2023-07-22 00:00:00   \n",
       "75%    28938.000000            2023-11-11 00:00:00   \n",
       "max    30727.000000            2024-03-06 00:00:00   \n",
       "std     2066.192271                            NaN   \n",
       "\n",
       "                      Discharge_Date     Feedback  Billing Amount  \\\n",
       "count                           7157  7157.000000     7157.000000   \n",
       "mean   2023-08-01 15:14:27.681989376     4.723543    26607.891854   \n",
       "min              2023-01-12 00:00:00     3.500000     1223.000000   \n",
       "25%              2023-04-11 00:00:00     4.500000     5454.000000   \n",
       "50%              2023-07-31 00:00:00     5.000000    12348.000000   \n",
       "75%              2023-11-20 00:00:00     5.000000    43522.000000   \n",
       "max              2024-03-07 00:00:00     5.000000    95867.000000   \n",
       "std                              NaN     0.479901    25791.931009   \n",
       "\n",
       "       Health Insurance Amount  \n",
       "count              7157.000000  \n",
       "mean              23947.102669  \n",
       "min                1100.700000  \n",
       "25%                4908.600000  \n",
       "50%               11113.200000  \n",
       "75%               39169.800000  \n",
       "max               86280.300000  \n",
       "std               23212.737908  "
      ]
     },
     "execution_count": 15,
     "metadata": {},
     "output_type": "execute_result"
    }
   ],
   "source": [
    "df.describe()"
   ]
  },
  {
   "cell_type": "code",
   "execution_count": 16,
   "id": "fa5268b4-77da-4334-9cbb-44234cc2faa6",
   "metadata": {
    "scrolled": true
   },
   "outputs": [
    {
     "name": "stdout",
     "output_type": "stream",
     "text": [
      "Number of Outliers in 'Billing Amount' : 0\n",
      "Number of outliers in 'Health Insurance Amount' : 0\n"
     ]
    }
   ],
   "source": [
    "#calculate the InterQuartile Range (IQR) for 'Billing Amount'\n",
    "# Q1 (25th percentile) and Q3 (75th percentile) are calculated to find the middle 50% of the data\n",
    "Q1_billing = df['Billing Amount'].quantile(0.25) # first quartile(25% of the data falls below the value)\n",
    "Q3_billing = df['Billing Amount'].quantile(0.75) #third quartile (75% of the data falls below this value)\n",
    "IQR_billing = Q3_billing - Q1_billing #IQR is the range of the middle 50% of the data\n",
    "\n",
    "#Define lower and upper bounds for identifying outliers\n",
    "#values smaller than this lower bound or larger than this upper bound considered as outliers\n",
    "lower_bound_billing = Q1_billing - 1.5 * IQR_billing #Minimum threshold for valid values\n",
    "upper_bound_billing = Q3_billing + 1.5 * IQR_billing #Maximum threshold for valid values\n",
    "\n",
    "#identifying outliers in 'Billing Amount'\n",
    "#Filter rows where the 'Billing Amount' is outside the valid range\n",
    "outliers_billing = df[(df['Billing Amount'] < lower_bound_billing) | (df['Billing Amount']>upper_bound_billing)]\n",
    "\n",
    "#we are repeating same process for coloumn 'Health Insurance Amount'\n",
    "#calculating Q1,Q3,IQR\n",
    "Q1_insurance  = df['Health Insurance Amount'].quantile(0.25) \n",
    "Q3_insurance = df['Health Insurance Amount'].quantile(0.75)\n",
    "IQR_insurance = Q3_insurance - Q1_insurance #IQR for \"Health Insurance Amount'\n",
    "\n",
    "#define lower and upper bounds for 'Health Inusrance Amount'\n",
    "lower_bound_insurance = Q1_insurance - 1.5 * IQR_insurance\n",
    "upper_bound_insurance = Q3_insurance + 1.5 * IQR_insurance\n",
    "\n",
    "#identifying outliers in 'Health Insurance Amount'\n",
    "outliers_insurance = df[(df['Health Insurance Amount']<lower_bound_insurance) | (df['Health Insurance Amount'] > upper_bound_insurance)]\n",
    "\n",
    "#printing results as\n",
    "print(f\"Number of Outliers in 'Billing Amount' : {len(outliers_billing)}\")\n",
    "print(f\"Number of outliers in 'Health Insurance Amount' : {len(outliers_insurance)}\") \n"
   ]
  },
  {
   "cell_type": "code",
   "execution_count": 17,
   "id": "7450e098-a3c7-4ac1-bf33-8e148a27b028",
   "metadata": {},
   "outputs": [
    {
     "name": "stdout",
     "output_type": "stream",
     "text": [
      "\n",
      " Cleaned dataset saved as 'Cleaned_Healthcare_Dataset.xlsx'\n"
     ]
    }
   ],
   "source": [
    " #save the cleaned dataset to a New File\n",
    "cleaned_file_path = \"Cleaned_Healthcare_Dataset.xlsx\"\n",
    "df.to_excel(cleaned_file_path,index = False)\n",
    "print(f\"\\n Cleaned dataset saved as '{cleaned_file_path}'\")"
   ]
  },
  {
   "cell_type": "code",
   "execution_count": 18,
   "id": "ba7e1860-8031-46f4-8a15-ef3c58dda49b",
   "metadata": {},
   "outputs": [
    {
     "data": {
      "image/png": "[encoded data removed]",
      "text/plain": [
       "<Figure size 800x500 with 1 Axes>"
      ]
     },
     "metadata": {},
     "output_type": "display_data"
    }
   ],
   "source": [
    "#importing important libraries\n",
    "import matplotlib.pyplot as plt\n",
    "import seaborn as sns\n",
    "\n",
    "#plot the distribution of 'Billing Amount'\n",
    "plt.figure(figsize=(8,5))\n",
    "sns.histplot(df['Billing Amount'],bins=30,kde=True,color='blue')\n",
    "plt.title(\"Distribution of Billing Amount\")\n",
    "plt.xlabel(\"Billing Amount\")\n",
    "plt.ylabel(\"Frequency\")\n",
    "plt.show()"
   ]
  },
  {
   "cell_type": "code",
   "execution_count": 19,
   "id": "55a15132-5802-4465-bf1d-80c5769bf0dd",
   "metadata": {},
   "outputs": [
    {
     "data": {
      "image/png": "[encoded data removed]",
      "text/plain": [
       "<Figure size 800x500 with 1 Axes>"
      ]
     },
     "metadata": {},
     "output_type": "display_data"
    }
   ],
   "source": [
    "#Plot the distribution of 'Health Insurance Amount'\n",
    "plt.figure(figsize=(8,5))\n",
    "sns.histplot(df['Health Insurance Amount'],bins=30,kde=True,color='green')\n",
    "plt.title(\"Distribution of Health Insurance Amount\")\n",
    "plt.xlabel(\"Health Insurance Amount\")\n",
    "plt.ylabel(\"Frequency\")\n",
    "plt.show()"
   ]
  },
  {
   "cell_type": "code",
   "execution_count": 20,
   "id": "4f974469-77b7-408b-ba7b-ff5f35d2d998",
   "metadata": {},
   "outputs": [
    {
     "name": "stdout",
     "output_type": "stream",
     "text": [
      "Requirement already satisfied: mysql-connector-python in g:\\anaconda\\lib\\site-packages (9.2.0)\n"
     ]
    }
   ],
   "source": [
    " # Database Integration with MYSQL,here Installing Mysql-connector library\n",
    "!pip install mysql-connector-python"
   ]
  },
  {
   "cell_type": "code",
   "execution_count": 21,
   "id": "b1e2bd43-36b6-4ec3-aea3-86f62214cba5",
   "metadata": {},
   "outputs": [],
   "source": [
    "#MYSQL Integration and Execution\n",
    "import mysql.connector\n",
    "import pandas as pd\n",
    "\n",
    "#Connecting to MYSQL server\n",
    "connection = mysql.connector.connect(\n",
    "    host=\"localhost\",\n",
    "    user=\"root\",\n",
    "    password=\"root\",\n",
    "    database= \"healthcare_db\"\n",
    "    \n",
    ")\n",
    "\n",
    "cursor = connection.cursor()"
   ]
  },
  {
   "cell_type": "code",
   "execution_count": null,
   "id": "5950a4f1-0fee-4393-acb7-27419d21f48d",
   "metadata": {},
   "outputs": [],
   "source": [
    " "
   ]
  },
  {
   "cell_type": "code",
   "execution_count": 22,
   "id": "ef80262b-d676-4560-b0c8-8d0170daa984",
   "metadata": {},
   "outputs": [
    {
     "name": "stdout",
     "output_type": "stream",
     "text": [
      "Table 'healthcare_date' created or already exists\n"
     ]
    }
   ],
   "source": [
    "#connect to the newly created database\n",
    "connection = mysql.connector.connect(\n",
    "    host=\"localhost\",\n",
    "   user=\"root\",\n",
    "    password=\"root\",\n",
    "    database=\"healthcare_db\"\n",
    ")\n",
    "cursor = connection.cursor()\n",
    "\n",
    "#Create a table in the DATABASE\n",
    "cursor.execute(\"\"\"\n",
    "CREATE TABLE IF NOT EXISTS healthcare_data (\n",
    "    Patient_ID INT PRIMARY KEY,\n",
    "    Admit_Date DATE,\n",
    "    Discharge_Date DATE,\n",
    "    Diagnosis VARCHAR(260),\n",
    "    Bed_Occupancy VARCHAR(50),\n",
    "    Test VARCHAR(100),\n",
    "    Doctor VARCHAR(100),\n",
    "    Followup_Date VARCHAR(50),\n",
    "    Feedback FLOAT,\n",
    "    Billing_Amount FLOAT,\n",
    "    Health_Insurance_Amount FLOAT\n",
    ")\n",
    "\"\"\")\n",
    "\n",
    "print(\"Table 'healthcare_date' created or already exists\")\n",
    "\n",
    "\n"
   ]
  },
  {
   "cell_type": "code",
   "execution_count": 23,
   "id": "563ef4e4-5946-4316-ab63-5c219578cd7d",
   "metadata": {},
   "outputs": [
    {
     "name": "stdout",
     "output_type": "stream",
     "text": [
      "Inserting data into the table\n"
     ]
    }
   ],
   "source": [
    "# Load Data in to Table\n",
    "#Read the cleaned dataset\n",
    "df_cleaned = pd.read_excel(\"Cleaned_Healthcare_Dataset.xlsx\")\n",
    "try:\n",
    "    #Insert data into the table\n",
    "    print(\"Inserting data into the table\")\n",
    "    for index,row in df_cleaned.iterrows():\n",
    "        #Converting the row into a tuple and insert it into the database\n",
    "        sql_query = \"\"\"\n",
    "        INSERT INTO healthcare_data (\n",
    "            Patient_ID, Admit_Date, Discharge_Date, Diagnosis, Bed_Occupancy,\n",
    "            Test, Doctor, Followup_Date, Feedback, Billing_Amount, Health_Insurance_Amount\n",
    "        )VALUES (%s, %s, %s, %s, %s, %s, %s, %s, %s, %s, %s  )\n",
    "        \"\"\"\n",
    "        cursor.execute(sql_query,tuple(row))\n",
    "    \n",
    "    #commit changes to save the data into the table\n",
    "    connection.commit()\n",
    "    print(\"Data successfully loaded into 'healthcare_data' table\")\n",
    "\n",
    "except:\n",
    "    pass\n",
    "    \n",
    "    \n",
    "\n",
    "\n"
   ]
  },
  {
   "cell_type": "code",
   "execution_count": 24,
   "id": "5761cd47-ee7c-46d4-a9da-80fc324a5af9",
   "metadata": {},
   "outputs": [
    {
     "name": "stdout",
     "output_type": "stream",
     "text": [
      "\n",
      "Monthly Admission Trends:\n",
      "('2022-12', 61)\n",
      "('2023-01', 590)\n",
      "('2023-02', 497)\n",
      "('2023-03', 609)\n",
      "('2023-04', 493)\n",
      "('2023-05', 509)\n",
      "('2023-06', 466)\n",
      "('2023-07', 505)\n",
      "('2023-08', 513)\n",
      "('2023-09', 458)\n",
      "('2023-10', 501)\n",
      "('2023-11', 472)\n",
      "('2023-12', 526)\n",
      "('2024-01', 501)\n",
      "('2024-02', 417)\n",
      "('2024-03', 39)\n"
     ]
    }
   ],
   "source": [
    "#  Execute Queries and Displaying Results\n",
    "def execute_query(query,description):\n",
    "    print(f\"\\n{description}\")\n",
    "    cursor.execute(query)\n",
    "    result = cursor.fetchall()\n",
    "    for row in result:\n",
    "        print(row)\n",
    "\n",
    "#Query 1: Montly Admission Trends\n",
    "execute_query(\"\"\"\n",
    "SELECT DATE_FORMAT(Admit_Date,'%Y-%m') AS Month, COUNT(*) AS Total_Admission\n",
    "FROM healthcare_data\n",
    "GROUP BY Month\n",
    "ORDER BY Month;\n",
    "\"\"\",\"Monthly Admission Trends:\")"
   ]
  },
  {
   "cell_type": "code",
   "execution_count": 25,
   "id": "d0fb28b1-f905-4f3d-84f6-66f7c5d7c1a2",
   "metadata": {},
   "outputs": [
    {
     "name": "stdout",
     "output_type": "stream",
     "text": [
      "\n",
      "Top 5 Diagnosis:\n",
      "('Viral Infection ', 2004)\n",
      "('Flu', 1717)\n",
      "('Malaria ', 1431)\n",
      "('Typhoid', 1145)\n",
      "('Pneumonia ', 573)\n"
     ]
    }
   ],
   "source": [
    "#Query 2 : Top  5 Diagnosis\n",
    "execute_query(\"\"\"\n",
    "SELECT Diagnosis, COUNT(*) AS Frequency\n",
    "FROM healthcare_data\n",
    "GROUP BY Diagnosis\n",
    "ORDER BY Frequency DESC\n",
    "LIMIT 5;\n",
    "\"\"\",\"Top 5 Diagnosis:\")\n"
   ]
  },
  {
   "cell_type": "code",
   "execution_count": 26,
   "id": "fb15e079-6ff7-4650-9014-2f74f4dbfa17",
   "metadata": {},
   "outputs": [
    {
     "name": "stdout",
     "output_type": "stream",
     "text": [
      "\n",
      "Distribution of Bed Occupancy Types:\n",
      "('General', 2385)\n",
      "('Private', 3579)\n",
      "('ICU', 1193)\n"
     ]
    }
   ],
   "source": [
    "#Query 3:Bed occupancy Distribution\n",
    "execute_query(\"\"\"\n",
    "SELECT Bed_Occupancy,COUNT(*) AS Count\n",
    "FROM healthcare_data\n",
    "GROUP BY Bed_Occupancy;\n",
    "\"\"\", \"Distribution of Bed Occupancy Types:\")"
   ]
  },
  {
   "cell_type": "code",
   "execution_count": 27,
   "id": "8415acb4-5179-4c6e-a491-c144450897d4",
   "metadata": {},
   "outputs": [
    {
     "name": "stdout",
     "output_type": "stream",
     "text": [
      "\n",
      "Average and Maximum Length of Stay by Diagnosis:\n",
      "('Malaria ', Decimal('8.4375'), 45)\n",
      "('Viral Infection ', Decimal('8.4122'), 45)\n",
      "('Fracture', Decimal('8.3449'), 45)\n",
      "('Typhoid', Decimal('8.0961'), 45)\n",
      "('Flu', Decimal('8.0798'), 45)\n",
      "('Pneumonia ', Decimal('7.9825'), 45)\n"
     ]
    }
   ],
   "source": [
    "#Query 4: Average and Maximum Length of Stay\n",
    "execute_query(\"\"\"\n",
    "SELECT Diagnosis,\n",
    "       AVG(DATEDIFF(Discharge_Date, Admit_Date)) AS Avg_Stay,\n",
    "       MAX(DATEDIFF(Discharge_Date, Admit_Date)) AS Max_Stay\n",
    "FROM healthcare_data\n",
    "GROUP BY Diagnosis\n",
    "ORDER BY Avg_Stay DESC;\n",
    "\"\"\",\"Average and Maximum Length of Stay by Diagnosis:\")"
   ]
  },
  {
   "cell_type": "code",
   "execution_count": 28,
   "id": "ca07ab4e-e1dd-43e9-ab1a-f281c6bbbca6",
   "metadata": {},
   "outputs": [
    {
     "name": "stdout",
     "output_type": "stream",
     "text": [
      "\n",
      "Seasonal Admission Patterns:\n",
      "('January', 1091)\n",
      "('February', 914)\n",
      "('March', 648)\n",
      "('April', 493)\n",
      "('May', 509)\n",
      "('June', 466)\n",
      "('July', 505)\n",
      "('August', 513)\n",
      "('September', 458)\n",
      "('October', 501)\n",
      "('November', 472)\n",
      "('December', 587)\n"
     ]
    }
   ],
   "source": [
    "#Query 5: Seasonal Admission Patterns\n",
    "execute_query(\"\"\"\n",
    "SELECT MONTHNAME(Admit_Date) AS Month, COUNT(*) AS Total_Admissions\n",
    "FROM healthcare_data\n",
    "GROUP BY Month\n",
    "ORDER BY FIELD(Month,'January', 'February', 'March', 'April', 'May', 'June', 'July',\n",
    "                      'August', 'September', 'October', 'November', 'December')\n",
    "\"\"\",\"Seasonal Admission Patterns:\")"
   ]
  },
  {
   "cell_type": "code",
   "execution_count": 29,
   "id": "9f884ae3-a581-4482-b309-0127f5aa85cf",
   "metadata": {},
   "outputs": [
    {
     "name": "stdout",
     "output_type": "stream",
     "text": [
      "\n",
      "Total Number of Patients Handled by Each Doctor:\n",
      "('Jay Sinha', 1023)\n",
      "('Mark Joy', 1023)\n",
      "('Jaya Yaadav', 1023)\n",
      "('Niki Sharma', 1022)\n",
      "('Tejas Saxena', 1022)\n",
      "('Naresh Goyenka', 1022)\n",
      "('Ravi D', 1022)\n"
     ]
    }
   ],
   "source": [
    "#Query 6 : Total Number of pateints handled by the doctor\n",
    "execute_query(\"\"\"\n",
    "SELECT DOCTOR,COUNT(*) AS Patient_Count\n",
    "FROM healthcare_data\n",
    "GROUP BY Doctor\n",
    "ORDER BY Patient_Count DESC;\n",
    "\"\"\",\"Total Number of Patients Handled by Each Doctor:\")"
   ]
  },
  {
   "cell_type": "code",
   "execution_count": 30,
   "id": "5f6e4fd7-3c0e-4b0d-8484-1b7f34a865c2",
   "metadata": {},
   "outputs": [
    {
     "name": "stdout",
     "output_type": "stream",
     "text": [
      "\n",
      "Most Popular Tests:\n",
      "('Blood Test', 2236)\n",
      "('MRI', 1789)\n",
      "('CT Scan', 1342)\n",
      "('X-Ray', 895)\n",
      "('Ultrasound', 895)\n"
     ]
    }
   ],
   "source": [
    "#Query 7: Popular Test\n",
    "execute_query(\"\"\"\n",
    "SELECT Test, COUNT(*) AS Test_Count\n",
    "FROM healthcare_data\n",
    "GROUP BY Test\n",
    "ORDER BY Test_Count DESC\n",
    "LIMIT 5;\n",
    "\"\"\",\"Most Popular Tests:\")"
   ]
  },
  {
   "cell_type": "code",
   "execution_count": 31,
   "id": "bc6e3f4d-cd8b-4dfe-843d-d9b7634a8812",
   "metadata": {},
   "outputs": [
    {
     "name": "stdout",
     "output_type": "stream",
     "text": [
      "\n",
      "Total_Revenue by Diagnosis:\n",
      "('Viral Infection ', 53416273.0)\n",
      "('Flu', 45877520.0)\n",
      "('Malaria ', 38006041.0)\n",
      "('Typhoid', 30352736.0)\n",
      "('Pneumonia ', 15216159.0)\n",
      "('Fracture', 7563953.0)\n"
     ]
    }
   ],
   "source": [
    "#Query 8: Total revenue by diagnosis\n",
    "execute_query(\"\"\"\n",
    "SELECT Diagnosis, SUM(Billing_Amount) AS Total_Revenue\n",
    "FROM healthcare_data\n",
    "GROUP BY Diagnosis\n",
    "ORDER BY Total_Revenue DESC;\n",
    "\"\"\",\"Total_Revenue by Diagnosis:\")"
   ]
  },
  {
   "cell_type": "code",
   "execution_count": 32,
   "id": "b6c00fb4-fec5-42e7-9c19-ef0f2bb38f2e",
   "metadata": {},
   "outputs": [
    {
     "name": "stdout",
     "output_type": "stream",
     "text": [
      "\n",
      "Patient Count by Month and Bed Type:\n",
      "('2022-12', 'Private', 30)\n",
      "('2022-12', 'General', 20)\n",
      "('2022-12', 'ICU', 11)\n",
      "('2023-01', 'Private', 295)\n",
      "('2023-01', 'General', 197)\n",
      "('2023-01', 'ICU', 98)\n",
      "('2023-02', 'Private', 249)\n",
      "('2023-02', 'General', 165)\n",
      "('2023-02', 'ICU', 83)\n",
      "('2023-03', 'Private', 305)\n",
      "('2023-03', 'General', 203)\n",
      "('2023-03', 'ICU', 101)\n",
      "('2023-04', 'Private', 246)\n",
      "('2023-04', 'General', 165)\n",
      "('2023-04', 'ICU', 82)\n",
      "('2023-05', 'Private', 255)\n",
      "('2023-05', 'General', 169)\n",
      "('2023-05', 'ICU', 85)\n",
      "('2023-06', 'Private', 232)\n",
      "('2023-06', 'General', 156)\n",
      "('2023-06', 'ICU', 78)\n",
      "('2023-07', 'Private', 253)\n",
      "('2023-07', 'General', 168)\n",
      "('2023-07', 'ICU', 84)\n",
      "('2023-08', 'Private', 256)\n",
      "('2023-08', 'General', 171)\n",
      "('2023-08', 'ICU', 86)\n",
      "('2023-09', 'Private', 229)\n",
      "('2023-09', 'General', 153)\n",
      "('2023-09', 'ICU', 76)\n",
      "('2023-10', 'Private', 251)\n",
      "('2023-10', 'General', 167)\n",
      "('2023-10', 'ICU', 83)\n",
      "('2023-11', 'Private', 236)\n",
      "('2023-11', 'General', 157)\n",
      "('2023-11', 'ICU', 79)\n",
      "('2023-12', 'Private', 263)\n",
      "('2023-12', 'General', 175)\n",
      "('2023-12', 'ICU', 88)\n",
      "('2024-01', 'Private', 251)\n",
      "('2024-01', 'General', 167)\n",
      "('2024-01', 'ICU', 83)\n",
      "('2024-02', 'Private', 208)\n",
      "('2024-02', 'General', 139)\n",
      "('2024-02', 'ICU', 70)\n",
      "('2024-03', 'Private', 20)\n",
      "('2024-03', 'General', 13)\n",
      "('2024-03', 'ICU', 6)\n"
     ]
    }
   ],
   "source": [
    "# Query 9 : Patient Count by Month and Bed Type\n",
    "execute_query(\"\"\"\n",
    "SELECT DATE_FORMAT(Admit_Date, '%Y-%m') AS Month, \n",
    "       Bed_Occupancy, \n",
    "       COUNT(*) AS Patient_Count\n",
    "FROM healthcare_data\n",
    "GROUP BY Month, Bed_Occupancy\n",
    "ORDER BY Month, Patient_Count DESC;\n",
    "\"\"\", \"Patient Count by Month and Bed Type:\")\n"
   ]
  },
  {
   "cell_type": "code",
   "execution_count": 33,
   "id": "b37cf7b7-af43-46a0-b7d5-4371f4b66c80",
   "metadata": {},
   "outputs": [
    {
     "name": "stdout",
     "output_type": "stream",
     "text": [
      "\n",
      "Top 5 Diagnoses by Revenue Contribution:\n",
      "('Viral Infection ', 53416273.0, 2004)\n",
      "('Flu', 45877520.0, 1717)\n",
      "('Malaria ', 38006041.0, 1431)\n",
      "('Typhoid', 30352736.0, 1145)\n",
      "('Pneumonia ', 15216159.0, 573)\n"
     ]
    }
   ],
   "source": [
    "# Query 10: Diagnosis Revenue Contribution\n",
    "execute_query(\"\"\"\n",
    "SELECT Diagnosis, \n",
    "       SUM(Billing_Amount) AS Total_Revenue,\n",
    "       COUNT(*) AS Patient_Count\n",
    "FROM healthcare_data\n",
    "GROUP BY Diagnosis\n",
    "ORDER BY Total_Revenue DESC\n",
    "LIMIT 5;\n",
    "\"\"\", \"Top 5 Diagnoses by Revenue Contribution:\")\n"
   ]
  },
  {
   "cell_type": "code",
   "execution_count": 34,
   "id": "575da54c-ccf1-4c18-abda-db5346748c89",
   "metadata": {},
   "outputs": [
    {
     "name": "stdout",
     "output_type": "stream",
     "text": [
      "\n",
      "Monthly Revenue Trends:\n",
      "('2022-12', 1613162.0)\n",
      "('2023-01', 15712160.0)\n",
      "('2023-02', 13198088.0)\n",
      "('2023-03', 16213144.0)\n",
      "('2023-04', 13325323.0)\n",
      "('2023-05', 13447264.0)\n",
      "('2023-06', 12485466.0)\n",
      "('2023-07', 13378735.0)\n",
      "('2023-08', 13697418.0)\n",
      "('2023-09', 12189231.0)\n",
      "('2023-10', 13169852.0)\n",
      "('2023-11', 12844610.0)\n",
      "('2023-12', 13843916.0)\n",
      "('2024-01', 13327092.0)\n",
      "('2024-02', 10873389.0)\n",
      "('2024-03', 1113832.0)\n"
     ]
    }
   ],
   "source": [
    "# Query 11: Total Revenue by Month\n",
    "execute_query(\"\"\"\n",
    "SELECT DATE_FORMAT(Admit_Date, '%Y-%m') AS Month, SUM(Billing_Amount) AS Total_Revenue\n",
    "FROM healthcare_data\n",
    "GROUP BY Month\n",
    "ORDER BY Month;\n",
    "\"\"\",\"Monthly Revenue Trends:\")"
   ]
  },
  {
   "cell_type": "code",
   "execution_count": 35,
   "id": "d2a01f9c-7ef3-46c3-bb7a-6bbc721a1407",
   "metadata": {},
   "outputs": [
    {
     "name": "stdout",
     "output_type": "stream",
     "text": [
      "\n",
      "Diagnosis with the Highest Feedback:\n",
      "('Fracture', 4.727177717959839)\n",
      "('Viral Infection ', 4.725349318005605)\n",
      "('Typhoid', 4.725240191413846)\n",
      "('Pneumonia ', 4.724607346985769)\n",
      "('Flu', 4.721549230463364)\n"
     ]
    }
   ],
   "source": [
    "#Query 12: Diagnosis with the Highest Feedback\n",
    "execute_query(\"\"\"\n",
    "SELECT Diagnosis, AVG(Feedback) AS Avg_Feedback\n",
    "FROM healthcare_data\n",
    "GROUP BY Diagnosis\n",
    "ORDER BY Avg_Feedback DESC\n",
    "LIMIT 5;\n",
    "\"\"\", \"Diagnosis with the Highest Feedback:\")"
   ]
  },
  {
   "cell_type": "code",
   "execution_count": 36,
   "id": "b4f47b7b-1eb9-4486-a284-f0edc6100ca1",
   "metadata": {},
   "outputs": [
    {
     "name": "stdout",
     "output_type": "stream",
     "text": [
      "\n",
      " Doctors with Most Patients:\n",
      "('Jay Sinha', 1023)\n",
      "('Jaya Yaadav', 1023)\n",
      "('Mark Joy', 1023)\n",
      "('Niki Sharma', 1022)\n",
      "('Tejas Saxena', 1022)\n"
     ]
    }
   ],
   "source": [
    "#Query 13: Doctors with the most patients\n",
    "execute_query(\"\"\"\n",
    "SELECT Doctor, COUNT(*) AS Patient_Count\n",
    "FROM healthcare_data\n",
    "GROUP BY Doctor\n",
    "ORDER BY Patient_Count DESC\n",
    "LIMIT 5;\n",
    "\"\"\",\" Doctors with Most Patients:\")"
   ]
  },
  {
   "cell_type": "code",
   "execution_count": 37,
   "id": "7fa7661e-887c-4c45-b6f0-942c6508c4c5",
   "metadata": {},
   "outputs": [
    {
     "name": "stdout",
     "output_type": "stream",
     "text": [
      "\n",
      "Number of Patients Without Follow-up Dates:\n",
      "(122,)\n"
     ]
    }
   ],
   "source": [
    "#Query 14: Patients without Follow-up\n",
    "execute_query(\"\"\"\n",
    "SELECT COUNT(*) AS N0_Followup_Patients\n",
    "FROM healthcare_data\n",
    "WHERE Followup_Date = 'No Follow-up Required';\n",
    "\"\"\", \"Number of Patients Without Follow-up Dates:\")"
   ]
  },
  {
   "cell_type": "code",
   "execution_count": 38,
   "id": "84c6e66c-51b0-4aa4-a2cb-d04a7605a22f",
   "metadata": {},
   "outputs": [
    {
     "name": "stdout",
     "output_type": "stream",
     "text": [
      "\n",
      "Diagnosis Count by Month:\n",
      "('Flu', 'January', 263)\n",
      "('Flu', 'February', 222)\n",
      "('Flu', 'March', 152)\n",
      "('Flu', 'April', 119)\n",
      "('Flu', 'May', 121)\n",
      "('Flu', 'June', 113)\n",
      "('Flu', 'July', 121)\n",
      "('Flu', 'August', 125)\n",
      "('Flu', 'September', 108)\n",
      "('Flu', 'October', 120)\n",
      "('Flu', 'November', 114)\n",
      "('Flu', 'December', 139)\n",
      "('Fracture', 'January', 43)\n",
      "('Fracture', 'February', 37)\n",
      "('Fracture', 'March', 27)\n",
      "('Fracture', 'April', 19)\n",
      "('Fracture', 'May', 21)\n",
      "('Fracture', 'June', 18)\n",
      "('Fracture', 'July', 21)\n",
      "('Fracture', 'August', 20)\n",
      "('Fracture', 'September', 18)\n",
      "('Fracture', 'October', 20)\n",
      "('Fracture', 'November', 19)\n",
      "('Fracture', 'December', 24)\n",
      "('Malaria ', 'January', 219)\n",
      "('Malaria ', 'February', 182)\n",
      "('Malaria ', 'March', 130)\n",
      "('Malaria ', 'April', 99)\n",
      "('Malaria ', 'May', 101)\n",
      "('Malaria ', 'June', 94)\n",
      "('Malaria ', 'July', 101)\n",
      "('Malaria ', 'August', 101)\n",
      "('Malaria ', 'September', 93)\n",
      "('Malaria ', 'October', 100)\n",
      "('Malaria ', 'November', 95)\n",
      "('Malaria ', 'December', 116)\n",
      "('Pneumonia ', 'January', 87)\n",
      "('Pneumonia ', 'February', 72)\n",
      "('Pneumonia ', 'March', 54)\n",
      "('Pneumonia ', 'April', 39)\n",
      "('Pneumonia ', 'May', 41)\n",
      "('Pneumonia ', 'June', 37)\n",
      "('Pneumonia ', 'July', 41)\n",
      "('Pneumonia ', 'August', 40)\n",
      "('Pneumonia ', 'September', 37)\n",
      "('Pneumonia ', 'October', 41)\n",
      "('Pneumonia ', 'November', 36)\n",
      "('Pneumonia ', 'December', 48)\n",
      "('Typhoid', 'January', 175)\n",
      "('Typhoid', 'February', 144)\n",
      "('Typhoid', 'March', 106)\n",
      "('Typhoid', 'April', 79)\n",
      "('Typhoid', 'May', 81)\n",
      "('Typhoid', 'June', 75)\n",
      "('Typhoid', 'July', 80)\n",
      "('Typhoid', 'August', 81)\n",
      "('Typhoid', 'September', 75)\n",
      "('Typhoid', 'October', 80)\n",
      "('Typhoid', 'November', 76)\n",
      "('Typhoid', 'December', 93)\n",
      "('Viral Infection ', 'January', 304)\n",
      "('Viral Infection ', 'February', 257)\n",
      "('Viral Infection ', 'March', 179)\n",
      "('Viral Infection ', 'April', 138)\n",
      "('Viral Infection ', 'May', 144)\n",
      "('Viral Infection ', 'June', 129)\n",
      "('Viral Infection ', 'July', 141)\n",
      "('Viral Infection ', 'August', 146)\n",
      "('Viral Infection ', 'September', 127)\n",
      "('Viral Infection ', 'October', 140)\n",
      "('Viral Infection ', 'November', 132)\n",
      "('Viral Infection ', 'December', 167)\n"
     ]
    }
   ],
   "source": [
    "# Query 15: Diagnosis Count by Month\n",
    "execute_query(\"\"\"\n",
    "SELECT Diagnosis, MONTHNAME(Admit_Date) AS Month, COUNT(*) AS Count\n",
    "FROM healthcare_data\n",
    "GROUP BY Diagnosis, Month\n",
    "ORDER BY Diagnosis, FIELD(Month, 'January', 'February', 'March', 'April', 'May', 'June', \n",
    "                        'July', 'August', 'September', 'October', 'November', 'December');\n",
    "\"\"\", \"Diagnosis Count by Month:\")"
   ]
  },
  {
   "cell_type": "code",
   "execution_count": 39,
   "id": "e2fddc0a-8df5-41b7-80f7-b0cf6a717206",
   "metadata": {},
   "outputs": [
    {
     "name": "stdout",
     "output_type": "stream",
     "text": [
      "\n",
      "Comparison of Length of Stay for Follow-up vs Non-Follow-up Patients:\n",
      "('Follow-up Required', Decimal('8.2523'))\n",
      "('No Follow-up', Decimal('8.1066'))\n"
     ]
    }
   ],
   "source": [
    "#Query 16: Are Follow-up Patients Staying Longer\n",
    "execute_query(\"\"\"\n",
    "SELECT\n",
    "    CASE\n",
    "        WHEN Followup_Date = 'No Follow-up Required' THEN 'No Follow-up'\n",
    "        ELSE 'Follow-up Required'\n",
    "    END AS Followup_Status,\n",
    "    AVG(DATEDIFF(Discharge_Date, Admit_Date)) AS Avg_Length_Of_Stay\n",
    "FROM healthcare_data\n",
    "GROUP BY Followup_Status;\n",
    "\"\"\", \"Comparison of Length of Stay for Follow-up vs Non-Follow-up Patients:\")"
   ]
  },
  {
   "cell_type": "code",
   "execution_count": 40,
   "id": "4b53766b-81b8-4abe-b142-f7ced2d034cb",
   "metadata": {},
   "outputs": [
    {
     "name": "stdout",
     "output_type": "stream",
     "text": [
      "Requirement already satisfied: streamlit in g:\\anaconda\\lib\\site-packages (1.37.1)\n",
      "Requirement already satisfied: altair<6,>=4.0 in g:\\anaconda\\lib\\site-packages (from streamlit) (5.0.1)\n",
      "Requirement already satisfied: blinker<2,>=1.0.0 in g:\\anaconda\\lib\\site-packages (from streamlit) (1.6.2)\n",
      "Requirement already satisfied: cachetools<6,>=4.0 in g:\\anaconda\\lib\\site-packages (from streamlit) (5.3.3)\n",
      "Requirement already satisfied: click<9,>=7.0 in g:\\anaconda\\lib\\site-packages (from streamlit) (8.1.7)\n",
      "Requirement already satisfied: numpy<3,>=1.20 in g:\\anaconda\\lib\\site-packages (from streamlit) (1.26.4)\n",
      "Requirement already satisfied: packaging<25,>=20 in g:\\anaconda\\lib\\site-packages (from streamlit) (24.1)\n",
      "Requirement already satisfied: pandas<3,>=1.3.0 in g:\\anaconda\\lib\\site-packages (from streamlit) (2.2.2)\n",
      "Requirement already satisfied: pillow<11,>=7.1.0 in g:\\anaconda\\lib\\site-packages (from streamlit) (10.4.0)\n",
      "Requirement already satisfied: protobuf<6,>=3.20 in g:\\anaconda\\lib\\site-packages (from streamlit) (4.25.3)\n",
      "Requirement already satisfied: pyarrow>=7.0 in g:\\anaconda\\lib\\site-packages (from streamlit) (16.1.0)\n",
      "Requirement already satisfied: requests<3,>=2.27 in g:\\anaconda\\lib\\site-packages (from streamlit) (2.32.3)\n",
      "Requirement already satisfied: rich<14,>=10.14.0 in g:\\anaconda\\lib\\site-packages (from streamlit) (13.7.1)\n",
      "Requirement already satisfied: tenacity<9,>=8.1.0 in g:\\anaconda\\lib\\site-packages (from streamlit) (8.2.3)\n",
      "Requirement already satisfied: toml<2,>=0.10.1 in g:\\anaconda\\lib\\site-packages (from streamlit) (0.10.2)\n",
      "Requirement already satisfied: typing-extensions<5,>=4.3.0 in g:\\anaconda\\lib\\site-packages (from streamlit) (4.11.0)\n",
      "Requirement already satisfied: gitpython!=3.1.19,<4,>=3.0.7 in g:\\anaconda\\lib\\site-packages (from streamlit) (3.1.43)\n",
      "Requirement already satisfied: pydeck<1,>=0.8.0b4 in g:\\anaconda\\lib\\site-packages (from streamlit) (0.8.0)\n",
      "Requirement already satisfied: tornado<7,>=6.0.3 in g:\\anaconda\\lib\\site-packages (from streamlit) (6.4.1)\n",
      "Requirement already satisfied: watchdog<5,>=2.1.5 in g:\\anaconda\\lib\\site-packages (from streamlit) (4.0.1)\n",
      "Requirement already satisfied: jinja2 in g:\\anaconda\\lib\\site-packages (from altair<6,>=4.0->streamlit) (3.1.4)\n",
      "Requirement already satisfied: jsonschema>=3.0 in g:\\anaconda\\lib\\site-packages (from altair<6,>=4.0->streamlit) (4.23.0)\n",
      "Requirement already satisfied: toolz in g:\\anaconda\\lib\\site-packages (from altair<6,>=4.0->streamlit) (0.12.0)\n",
      "Requirement already satisfied: colorama in g:\\anaconda\\lib\\site-packages (from click<9,>=7.0->streamlit) (0.4.6)\n",
      "Requirement already satisfied: gitdb<5,>=4.0.1 in g:\\anaconda\\lib\\site-packages (from gitpython!=3.1.19,<4,>=3.0.7->streamlit) (4.0.7)\n",
      "Requirement already satisfied: python-dateutil>=2.8.2 in g:\\anaconda\\lib\\site-packages (from pandas<3,>=1.3.0->streamlit) (2.9.0.post0)\n",
      "Requirement already satisfied: pytz>=2020.1 in g:\\anaconda\\lib\\site-packages (from pandas<3,>=1.3.0->streamlit) (2024.1)\n",
      "Requirement already satisfied: tzdata>=2022.7 in g:\\anaconda\\lib\\site-packages (from pandas<3,>=1.3.0->streamlit) (2023.3)\n",
      "Requirement already satisfied: charset-normalizer<4,>=2 in g:\\anaconda\\lib\\site-packages (from requests<3,>=2.27->streamlit) (3.3.2)\n",
      "Requirement already satisfied: idna<4,>=2.5 in g:\\anaconda\\lib\\site-packages (from requests<3,>=2.27->streamlit) (3.7)\n",
      "Requirement already satisfied: urllib3<3,>=1.21.1 in g:\\anaconda\\lib\\site-packages (from requests<3,>=2.27->streamlit) (2.2.3)\n",
      "Requirement already satisfied: certifi>=2017.4.17 in g:\\anaconda\\lib\\site-packages (from requests<3,>=2.27->streamlit) (2024.8.30)\n",
      "Requirement already satisfied: markdown-it-py>=2.2.0 in g:\\anaconda\\lib\\site-packages (from rich<14,>=10.14.0->streamlit) (2.2.0)\n",
      "Requirement already satisfied: pygments<3.0.0,>=2.13.0 in g:\\anaconda\\lib\\site-packages (from rich<14,>=10.14.0->streamlit) (2.15.1)\n",
      "Requirement already satisfied: smmap<5,>=3.0.1 in g:\\anaconda\\lib\\site-packages (from gitdb<5,>=4.0.1->gitpython!=3.1.19,<4,>=3.0.7->streamlit) (4.0.0)\n",
      "Requirement already satisfied: MarkupSafe>=2.0 in g:\\anaconda\\lib\\site-packages (from jinja2->altair<6,>=4.0->streamlit) (2.1.3)\n",
      "Requirement already satisfied: attrs>=22.2.0 in g:\\anaconda\\lib\\site-packages (from jsonschema>=3.0->altair<6,>=4.0->streamlit) (23.1.0)\n",
      "Requirement already satisfied: jsonschema-specifications>=2023.03.6 in g:\\anaconda\\lib\\site-packages (from jsonschema>=3.0->altair<6,>=4.0->streamlit) (2023.7.1)\n",
      "Requirement already satisfied: referencing>=0.28.4 in g:\\anaconda\\lib\\site-packages (from jsonschema>=3.0->altair<6,>=4.0->streamlit) (0.30.2)\n",
      "Requirement already satisfied: rpds-py>=0.7.1 in g:\\anaconda\\lib\\site-packages (from jsonschema>=3.0->altair<6,>=4.0->streamlit) (0.10.6)\n",
      "Requirement already satisfied: mdurl~=0.1 in g:\\anaconda\\lib\\site-packages (from markdown-it-py>=2.2.0->rich<14,>=10.14.0->streamlit) (0.1.0)\n",
      "Requirement already satisfied: six>=1.5 in g:\\anaconda\\lib\\site-packages (from python-dateutil>=2.8.2->pandas<3,>=1.3.0->streamlit) (1.16.0)\n"
     ]
    }
   ],
   "source": [
    "!pip install streamlit"
   ]
  },
  {
   "cell_type": "code",
   "execution_count": 41,
   "id": "94d44a85-6d83-4688-b8a2-da2794439f7d",
   "metadata": {},
   "outputs": [
    {
     "name": "stdout",
     "output_type": "stream",
     "text": [
      "Overwriting app.py\n"
     ]
    }
   ],
   "source": [
    "%%writefile app.py\n",
    "import streamlit as st\n",
    "st.title(\"Healthcare_Insights\")"
   ]
  },
  {
   "cell_type": "code",
   "execution_count": null,
   "id": "208996c5-850d-4f60-a3aa-8b10a5c8aab5",
   "metadata": {},
   "outputs": [],
   "source": [
    "!streamlit run app.py \n"
   ]
  },
  {
   "cell_type": "code",
   "execution_count": null,
   "id": "a8cea06b-9a7e-4e13-b9ec-4e020dbd49a0",
   "metadata": {},
   "outputs": [],
   "source": []
  }
 ],
 "metadata": {
  "kernelspec": {
   "display_name": "Python 3 (ipykernel)",
   "language": "python",
   "name": "python3"
  },
  "language_info": {
   "codemirror_mode": {
    "name": "ipython",
    "version": 3
   },
   "file_extension": ".py",
   "mimetype": "text/x-python",
   "name": "python",
   "nbconvert_exporter": "python",
   "pygments_lexer": "ipython3",
   "version": "3.12.7"
  }
 },
 "nbformat": 4,
 "nbformat_minor": 5
}
